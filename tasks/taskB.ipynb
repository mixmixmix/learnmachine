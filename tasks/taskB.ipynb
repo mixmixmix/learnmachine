{
 "cells": [
  {
   "cell_type": "markdown",
   "metadata": {},
   "source": [
    "# Machine Learning - Task B\n",
    "\n",
    "*M Kundegorski*, Fjelltopp Ltd, University of Glasgow, 2019-2020\n",
    "\n",
    "In this task you will use regression to classify toy examples (shaped blobs) as different 'classes' or categories."
   ]
  },
  {
   "cell_type": "markdown",
   "metadata": {},
   "source": [
    "## The Task\n",
    "\n",
    "In an experiment we were able to image lots of different types of cells. These cells are sparse so we were easily able to segment them, find their bounding box and create a database of images each containing a single cell. We then convinced a PhD student to go through and manually categorise our cells. We want to use regression to be able to automatically categorise new, unlabelled cells from future experiments.\n",
    "\n",
    "To do this, we will:\n",
    "1. Use a logistic (categorical) regression.\n",
    "2. Use training data to fit the regression and test data to check how well our model works.\n",
    "3. Advanced: Use visual inspection to understand what might cause problems for classification models."
   ]
  },
  {
   "cell_type": "markdown",
   "metadata": {},
   "source": [
    "## Task B.1\n",
    "\n",
    "Run the following two cells to set-up and visualise the data. Feel free to change parameters as you explore the system."
   ]
  },
  {
   "cell_type": "code",
   "execution_count": null,
   "metadata": {},
   "outputs": [],
   "source": [
    "%matplotlib inline\n",
    "import matplotlib.pyplot as plt  # We will use matplotlib for plotting\n",
    "\n",
    "import numpy as np\n",
    "\n",
    "# Utils is a custom module written to simplify these tutorials\n",
    "# You do not need to understand these codes for this practical\n",
    "from utils.practice_data import generateBlobsData  # this loads data into a DataFrame\n",
    "from utils.practice_data import showBlobs  # this allows quick visualisation of the data\n",
    "\n",
    "# Generate a pandas DataFrame of data\n",
    "# with a column 'class', i.e. the categry a cell belongs to,\n",
    "# and a column 'raw_data' which hold the NumPy array/image\n",
    "imageDir = './assets/simple_blobs/'\n",
    "number_of_samples = 1000\n",
    "image_size = 64  # in pixels\n",
    "number_of_classes = 2 #2-6 - normal blobs. 7-11 more difficult\n",
    "problem = generateBlobsData(imageDir, number_of_classes, number_of_samples, image_size, noiseSize=20)"
   ]
  },
  {
   "cell_type": "code",
   "execution_count": null,
   "metadata": {},
   "outputs": [],
   "source": [
    "#Visualise the data\n",
    "display(problem.loc[:,'class'].describe())  # Note the number of unqiue classes\n",
    "showBlobs(problem.sample(20))  # plots the images with their class above."
   ]
  },
  {
   "cell_type": "markdown",
   "metadata": {},
   "source": [
    "## Task B.2\n",
    "\n",
    "Look at the documentation for [sklearn.linear_model.LogisticRegression()](https://scikit-learn.org/stable/modules/generated/sklearn.linear_model.LogisticRegression.html) and, specifically, this example: https://scikit-learn.org/stable/auto_examples/linear_model/plot_iris_logistic.html#sphx-glr-auto-examples-linear-model-plot-iris-logistic-py.\n",
    "\n",
    "The following cell needs to 'wrangle' our data into training and test data and then run Logistic Regression to create a simple model with which we can predict the classes of our test data and calculate a 'score', here the mean accuracy, of our model.\n",
    "\n",
    "Complete the following code cell by filling in all the `____`s with appropriate methods/functions and parameters."
   ]
  },
  {
   "cell_type": "code",
   "execution_count": null,
   "metadata": {},
   "outputs": [],
   "source": [
    "from sklearn import linear_model\n",
    "from sklearn import model_selection\n",
    "\n",
    "# Data wrangling\n",
    "x = np.stack(problem.loc[:,'raw_data'])  # Stack all images into an array 'x'\n",
    "x = x.reshape(x.shape[0], -1)  # Convert individual 2D images into 1D vectors\n",
    "y = problem.loc[:,'class'].values.astype(int)  # Convert classes to int\n",
    "\n",
    "# Split data into 80% training and 20% testing data\n",
    "x_train, x_test, y_train, y_test = model_selection.____(____, ____, ____=0.2, random_state=0)\n",
    "\n",
    "# Initialise Logistic Regression\n",
    "logreg = linear_model.LogisticRegression(random_state=0)\n",
    "\n",
    "# Fit to training data\n",
    "# ADD CODE HERE:\n",
    "\n",
    "# Predict the classes for our test data\n",
    "# ADD CODE HERE:\n",
    "\n",
    "# Calculate the mean accuracy to score our model.\n",
    "test_set_score = logreg.score(x_test, ____)\n",
    "train_set_score = logreg.score(x_train, ____)\n",
    "print(\"Score on training set: {} and on testing: {} \".format(train_set_score,test_set_score))"
   ]
  },
  {
   "cell_type": "markdown",
   "metadata": {},
   "source": [
    "Create a new cell below where you display the results (on your test data) of the model. Does the model look good?"
   ]
  },
  {
   "cell_type": "markdown",
   "metadata": {},
   "source": [
    "Run the following cell to plot the True/False rates for our prediction. Note that this works for two classes only."
   ]
  },
  {
   "cell_type": "code",
   "execution_count": null,
   "metadata": {},
   "outputs": [],
   "source": [
    "f, axis = plt.subplots(1,1)  # create a figure with a single axis (subplot)\n",
    "\n",
    "TF = y_test==y_predict  # create True/False list to see how often we're correct\n",
    "trueCount = TF.sum()/TF.size  # as True==1, the sum is the same as the count (as percent)\n",
    "falseCount = (TF.size - TF.sum())/TF.size  # and everything else is False (as percent)\n",
    "\n",
    "print('Correct classification of Logistic Regression: {0.2%}'.format(trueRate))  # Works for 2 cell types only\n",
    "\n",
    "axis.bar(['True','False'],[trueCount,falseCount])\n",
    "axis.set_ylabel('Rate')\n",
    "axis.set_xlabel('Correct?')\n",
    "\n",
    "plt.show()"
   ]
  },
  {
   "cell_type": "markdown",
   "metadata": {},
   "source": [
    "## Advanced Task B.3\n",
    "\n",
    "Change the number of cell classes in our training data from 2 to a number between 2 and 6 (inclusive). Rerun the Logistic Regression (all cells above), how does the model deal with more classes.\n",
    "\n",
    "Repeat for a number between 7 and 11 (inclusive). Look at the plotted sample data, can you see why Logistic Regression may not be able to distinguish certain categories?"
   ]
  }
 ],
 "metadata": {
  "kernelspec": {
   "display_name": "learnmachine_env2",
   "language": "python",
   "name": "learnmachine_env2"
  },
  "language_info": {
   "codemirror_mode": {
    "name": "ipython",
    "version": 3
   },
   "file_extension": ".py",
   "mimetype": "text/x-python",
   "name": "python",
   "nbconvert_exporter": "python",
   "pygments_lexer": "ipython3",
   "version": "3.6.7"
  }
 },
 "nbformat": 4,
 "nbformat_minor": 4
}
