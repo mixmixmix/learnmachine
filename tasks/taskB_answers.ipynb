{
 "cells": [
  {
   "cell_type": "markdown",
   "metadata": {},
   "source": [
    "# Machine Learning - Task B - SOLUTIONS\n",
    "\n",
    "*M Kundegorski*, Fjelltopp Ltd, University of Glasgow, 2019-2020\n"
   ]
  },
  {
   "cell_type": "markdown",
   "metadata": {},
   "source": [
    "## The Task\n",
    "\n",
    "In an experiment we were able to image lots of different types of cells. These cells are sparse so we were easily able to segment them, find their bounding box and create a database of images each containing a single cell. We then convinced a PhD student to go through and manually categorise our cells. We want to use regression to be able to automatically categorise new, unlabelled cells from future experiments.\n",
    "\n",
    "To do this, we will:\n",
    "1. Use a logistic (categorical) regression.\n",
    "2. Use training data to fit the regression and test data to check how well our model works.\n",
    "3. Advanced: Use visual inspection to understand what might cause problems for classification models."
   ]
  },
  {
   "cell_type": "markdown",
   "metadata": {},
   "source": [
    "## Task B.1\n",
    "\n",
    "Run the following two cells to set-up and visualise the data. Feel free to change parameters as you explore the system."
   ]
  },
  {
   "cell_type": "code",
   "execution_count": 1,
   "metadata": {},
   "outputs": [
    {
     "name": "stdout",
     "output_type": "stream",
     "text": [
      "Requested more images than available!\n"
     ]
    }
   ],
   "source": [
    "%matplotlib widget\n",
    "import matplotlib.pyplot as plt  # We will use matplotlib for plotting\n",
    "\n",
    "import numpy as np\n",
    "\n",
    "# Utils is a custom module written to simplify these tutorials\n",
    "# You do not need to understand these codes for this practical\n",
    "from utils.practice_data import generateBlobsData  # this loads data into a DataFrame\n",
    "from utils.practice_data import showBlobs  # this allows quick visualisation of the data\n",
    "\n",
    "# Generate a pandas DataFrame of data\n",
    "# with a column 'class', i.e. the categry a cell belongs to,\n",
    "# and a column 'raw_data' which hold the NumPy array/image\n",
    "imageDir = './assets/simple_blobs/'\n",
    "number_of_samples = 1200\n",
    "image_size = 64  # in pixels\n",
    "number_of_classes = 2 #2-6 - normal blobs. 7-11 more difficult\n",
    "problem = generateBlobsData(imageDir, number_of_classes, number_of_samples, image_size, noiseSize=20)"
   ]
  },
  {
   "cell_type": "code",
   "execution_count": 2,
   "metadata": {},
   "outputs": [
    {
     "data": {
      "text/plain": [
       "count     1000\n",
       "unique       2\n",
       "top          1\n",
       "freq       500\n",
       "Name: class, dtype: int64"
      ]
     },
     "metadata": {},
     "output_type": "display_data"
    },
    {
     "data": {
      "application/vnd.jupyter.widget-view+json": {
       "model_id": "e93f14af82ef458ea3b4d565855ed259",
       "version_major": 2,
       "version_minor": 0
      },
      "text/plain": [
       "Canvas(toolbar=Toolbar(toolitems=[('Home', 'Reset original view', 'home', 'home'), ('Back', 'Back to previous …"
      ]
     },
     "metadata": {},
     "output_type": "display_data"
    }
   ],
   "source": [
    "#Visualise the data\n",
    "display(problem.loc[:,'class'].describe())  # describe classes; note the number of unique classes\n",
    "showBlobs(problem.sample(20))  # plots the images with their class above."
   ]
  },
  {
   "cell_type": "markdown",
   "metadata": {},
   "source": [
    "## Task B.2\n",
    "\n",
    "Look at the documentation for [sklearn.linear_model.LogisticRegression()](https://scikit-learn.org/stable/modules/generated/sklearn.linear_model.LogisticRegression.html) and, specifically, this example: https://scikit-learn.org/stable/auto_examples/linear_model/plot_iris_logistic.html#sphx-glr-auto-examples-linear-model-plot-iris-logistic-py.\n",
    "\n",
    "The following cell needs to 'wrangle' our data into training and test data and then run Logistic Regression to create a simple model with which we can predict the classes of our test data and calculate a 'score', here the mean accuracy, of our model.\n",
    "\n",
    "Complete the following code cell by filling in all the `____`s with appropriate methods/functions and parameters."
   ]
  },
  {
   "cell_type": "code",
   "execution_count": 3,
   "metadata": {},
   "outputs": [
    {
     "name": "stdout",
     "output_type": "stream",
     "text": [
      "Score on training set: 1.0 and on testing: 0.99 \n"
     ]
    },
    {
     "name": "stderr",
     "output_type": "stream",
     "text": [
      "/Users/mix/anaconda3/lib/python3.7/site-packages/sklearn/linear_model/_logistic.py:939: ConvergenceWarning: lbfgs failed to converge (status=1):\n",
      "STOP: TOTAL NO. of ITERATIONS REACHED LIMIT.\n",
      "\n",
      "Increase the number of iterations (max_iter) or scale the data as shown in:\n",
      "    https://scikit-learn.org/stable/modules/preprocessing.html.\n",
      "Please also refer to the documentation for alternative solver options:\n",
      "    https://scikit-learn.org/stable/modules/linear_model.html#logistic-regression\n",
      "  extra_warning_msg=_LOGISTIC_SOLVER_CONVERGENCE_MSG)\n"
     ]
    }
   ],
   "source": [
    "from sklearn import linear_model\n",
    "from sklearn import model_selection\n",
    "\n",
    "# Data wrangling\n",
    "x = np.stack(problem.loc[:,'raw_data'])  # Stack all images into an array 'x'\n",
    "x = x.reshape(x.shape[0], -1)  # Convert individual 2D images into 1D vectors\n",
    "y = problem.loc[:,'class'].values.astype(int)  # Convert classes to int\n",
    "\n",
    "# Split data into 80% training and 20% testing data\n",
    "x_train, x_test, y_train, y_test = model_selection.train_test_split(x, y, test_size=0.2, random_state=0)\n",
    "\n",
    "# Initialise Logistic Regression\n",
    "logreg = linear_model.LogisticRegression(random_state=0)\n",
    "\n",
    "# Fit to training data\n",
    "logreg.fit(x_train, y_train)\n",
    "\n",
    "# Predict the classes for our test data\n",
    "y_predict = logreg.predict(x_test)\n",
    "\n",
    "# Calculate the mean accuracy to score our model.\n",
    "test_set_score = logreg.score(x_test, y_test)\n",
    "train_set_score = logreg.score(x_train, y_train)\n",
    "print(\"Score on training set: {} and on testing: {} \".format(train_set_score,test_set_score))"
   ]
  },
  {
   "cell_type": "markdown",
   "metadata": {},
   "source": [
    "Create a new cell below where you display the results (on your test data) of the model. Does the model look good?"
   ]
  },
  {
   "cell_type": "markdown",
   "metadata": {},
   "source": [
    "Run the following cell to plot the True/False rates for our prediction. Note that this works for two classes only."
   ]
  },
  {
   "cell_type": "code",
   "execution_count": 4,
   "metadata": {},
   "outputs": [
    {
     "data": {
      "application/vnd.jupyter.widget-view+json": {
       "model_id": "5319c5ed440f4349b13cc34950bad8ef",
       "version_major": 2,
       "version_minor": 0
      },
      "text/plain": [
       "Canvas(toolbar=Toolbar(toolitems=[('Home', 'Reset original view', 'home', 'home'), ('Back', 'Back to previous …"
      ]
     },
     "metadata": {},
     "output_type": "display_data"
    },
    {
     "name": "stdout",
     "output_type": "stream",
     "text": [
      "Correct classification of Logistic Regression: 99.00%\n"
     ]
    }
   ],
   "source": [
    "f, axis = plt.subplots(1,1)  # create a figure with a single axis (subplot)\n",
    "\n",
    "TF = y_test==y_predict  # create True/False list to see how often we're correct\n",
    "trueRate = TF.sum()/TF.size  # as True==1, the sum is the same as the count (as percent)\n",
    "falseRate = (TF.size - TF.sum())/TF.size  # and everything else is False (as percent)\n",
    "\n",
    "print('Correct classification of Logistic Regression: {0:.2%}'.format(trueRate))  # Works for 2 cell types only\n",
    "\n",
    "axis.bar(['True','False'],[trueRate,falseRate])\n",
    "axis.set_ylabel('Rate')\n",
    "axis.set_xlabel('Correct?')\n",
    "plt.show()"
   ]
  },
  {
   "cell_type": "markdown",
   "metadata": {},
   "source": [
    "## Advanced Task B.3\n",
    "\n",
    "Change the number of cell classes in our training data from 2 to a number between 2 and 6 (inclusive). Rerun the Logistic Regression (all cells above), how does the model deal with more classes.\n",
    "\n",
    "Repeat for a number between 7 and 11 (inclusive). Look at the plotted sample data, can you see why Logistic Regression may not be able to distinguish certain categories?"
   ]
  }
 ],
 "metadata": {
  "kernelspec": {
   "display_name": "Python 3",
   "language": "python",
   "name": "python3"
  },
  "language_info": {
   "codemirror_mode": {
    "name": "ipython",
    "version": 3
   },
   "file_extension": ".py",
   "mimetype": "text/x-python",
   "name": "python",
   "nbconvert_exporter": "python",
   "pygments_lexer": "ipython3",
   "version": "3.7.4"
  }
 },
 "nbformat": 4,
 "nbformat_minor": 4
}
